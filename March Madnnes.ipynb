{
 "cells": [
  {
   "cell_type": "code",
   "execution_count": 2,
   "id": "9813dae7",
   "metadata": {},
   "outputs": [],
   "source": [
    "import numpy as np\n",
    "import pandas as pd\n",
    "import matplotlib.pyplot as plt\n",
    "import seaborn as sns"
   ]
  },
  {
   "cell_type": "markdown",
   "id": "90a4304a",
   "metadata": {},
   "source": [
    "### *(Opise koda/naredbi pisao sam iznad/prije izvođenja tih naredbi)*"
   ]
  },
  {
   "cell_type": "markdown",
   "id": "1c58966c",
   "metadata": {},
   "source": [
    "## Podaci iz `regular_season_results.csv` datoteke"
   ]
  },
  {
   "cell_type": "code",
   "execution_count": 3,
   "id": "d5665989",
   "metadata": {},
   "outputs": [],
   "source": [
    "X = pd.read_csv('regular_season_results.csv')"
   ]
  },
  {
   "cell_type": "markdown",
   "id": "e94c7ad1",
   "metadata": {},
   "source": [
    "### Prikaz osnovnih podataka datoteke poput:\n",
    "1. stupaca, tj. oznaka podataka u datoteci,\n",
    "2. nekoliko prvih podataka,\n",
    "3. opis podataka, poput ukupnog broja, maksimuma, minimuma, percentila..."
   ]
  },
  {
   "cell_type": "code",
   "execution_count": 4,
   "id": "d018840f",
   "metadata": {},
   "outputs": [
    {
     "data": {
      "text/plain": [
       "array(['season', 'daynum', 'wteam', 'wscore', 'lteam', 'lscore', 'wloc',\n",
       "       'numot'], dtype=object)"
      ]
     },
     "execution_count": 4,
     "metadata": {},
     "output_type": "execute_result"
    }
   ],
   "source": [
    "X.columns.values"
   ]
  },
  {
   "cell_type": "code",
   "execution_count": 5,
   "id": "c36fcf8e",
   "metadata": {},
   "outputs": [
    {
     "data": {
      "text/html": [
       "<div>\n",
       "<style scoped>\n",
       "    .dataframe tbody tr th:only-of-type {\n",
       "        vertical-align: middle;\n",
       "    }\n",
       "\n",
       "    .dataframe tbody tr th {\n",
       "        vertical-align: top;\n",
       "    }\n",
       "\n",
       "    .dataframe thead th {\n",
       "        text-align: right;\n",
       "    }\n",
       "</style>\n",
       "<table border=\"1\" class=\"dataframe\">\n",
       "  <thead>\n",
       "    <tr style=\"text-align: right;\">\n",
       "      <th></th>\n",
       "      <th>season</th>\n",
       "      <th>daynum</th>\n",
       "      <th>wteam</th>\n",
       "      <th>wscore</th>\n",
       "      <th>lteam</th>\n",
       "      <th>lscore</th>\n",
       "      <th>wloc</th>\n",
       "      <th>numot</th>\n",
       "    </tr>\n",
       "  </thead>\n",
       "  <tbody>\n",
       "    <tr>\n",
       "      <th>0</th>\n",
       "      <td>A</td>\n",
       "      <td>16</td>\n",
       "      <td>511</td>\n",
       "      <td>91</td>\n",
       "      <td>647</td>\n",
       "      <td>57</td>\n",
       "      <td>H</td>\n",
       "      <td>NaN</td>\n",
       "    </tr>\n",
       "    <tr>\n",
       "      <th>1</th>\n",
       "      <td>A</td>\n",
       "      <td>16</td>\n",
       "      <td>515</td>\n",
       "      <td>75</td>\n",
       "      <td>812</td>\n",
       "      <td>67</td>\n",
       "      <td>H</td>\n",
       "      <td>NaN</td>\n",
       "    </tr>\n",
       "    <tr>\n",
       "      <th>2</th>\n",
       "      <td>A</td>\n",
       "      <td>16</td>\n",
       "      <td>606</td>\n",
       "      <td>87</td>\n",
       "      <td>658</td>\n",
       "      <td>67</td>\n",
       "      <td>H</td>\n",
       "      <td>NaN</td>\n",
       "    </tr>\n",
       "    <tr>\n",
       "      <th>3</th>\n",
       "      <td>A</td>\n",
       "      <td>16</td>\n",
       "      <td>670</td>\n",
       "      <td>73</td>\n",
       "      <td>573</td>\n",
       "      <td>65</td>\n",
       "      <td>H</td>\n",
       "      <td>NaN</td>\n",
       "    </tr>\n",
       "    <tr>\n",
       "      <th>4</th>\n",
       "      <td>A</td>\n",
       "      <td>16</td>\n",
       "      <td>721</td>\n",
       "      <td>99</td>\n",
       "      <td>632</td>\n",
       "      <td>68</td>\n",
       "      <td>H</td>\n",
       "      <td>NaN</td>\n",
       "    </tr>\n",
       "  </tbody>\n",
       "</table>\n",
       "</div>"
      ],
      "text/plain": [
       "  season  daynum  wteam  wscore  lteam  lscore wloc  numot\n",
       "0      A      16    511      91    647      57    H    NaN\n",
       "1      A      16    515      75    812      67    H    NaN\n",
       "2      A      16    606      87    658      67    H    NaN\n",
       "3      A      16    670      73    573      65    H    NaN\n",
       "4      A      16    721      99    632      68    H    NaN"
      ]
     },
     "execution_count": 5,
     "metadata": {},
     "output_type": "execute_result"
    }
   ],
   "source": [
    "X.head()"
   ]
  },
  {
   "cell_type": "code",
   "execution_count": 6,
   "id": "dd4b6c44",
   "metadata": {},
   "outputs": [
    {
     "data": {
      "text/html": [
       "<div>\n",
       "<style scoped>\n",
       "    .dataframe tbody tr th:only-of-type {\n",
       "        vertical-align: middle;\n",
       "    }\n",
       "\n",
       "    .dataframe tbody tr th {\n",
       "        vertical-align: top;\n",
       "    }\n",
       "\n",
       "    .dataframe thead th {\n",
       "        text-align: right;\n",
       "    }\n",
       "</style>\n",
       "<table border=\"1\" class=\"dataframe\">\n",
       "  <thead>\n",
       "    <tr style=\"text-align: right;\">\n",
       "      <th></th>\n",
       "      <th>daynum</th>\n",
       "      <th>wteam</th>\n",
       "      <th>wscore</th>\n",
       "      <th>lteam</th>\n",
       "      <th>lscore</th>\n",
       "      <th>numot</th>\n",
       "    </tr>\n",
       "  </thead>\n",
       "  <tbody>\n",
       "    <tr>\n",
       "      <th>count</th>\n",
       "      <td>91224.000000</td>\n",
       "      <td>91224.000000</td>\n",
       "      <td>91224.000000</td>\n",
       "      <td>91224.000000</td>\n",
       "      <td>91224.000000</td>\n",
       "      <td>51333.000000</td>\n",
       "    </tr>\n",
       "    <tr>\n",
       "      <th>mean</th>\n",
       "      <td>73.410133</td>\n",
       "      <td>680.981058</td>\n",
       "      <td>75.370440</td>\n",
       "      <td>677.047400</td>\n",
       "      <td>63.208860</td>\n",
       "      <td>0.072000</td>\n",
       "    </tr>\n",
       "    <tr>\n",
       "      <th>std</th>\n",
       "      <td>34.210997</td>\n",
       "      <td>103.099502</td>\n",
       "      <td>11.408528</td>\n",
       "      <td>102.950054</td>\n",
       "      <td>10.940295</td>\n",
       "      <td>0.313278</td>\n",
       "    </tr>\n",
       "    <tr>\n",
       "      <th>min</th>\n",
       "      <td>0.000000</td>\n",
       "      <td>501.000000</td>\n",
       "      <td>34.000000</td>\n",
       "      <td>501.000000</td>\n",
       "      <td>20.000000</td>\n",
       "      <td>0.000000</td>\n",
       "    </tr>\n",
       "    <tr>\n",
       "      <th>25%</th>\n",
       "      <td>44.000000</td>\n",
       "      <td>592.000000</td>\n",
       "      <td>68.000000</td>\n",
       "      <td>587.000000</td>\n",
       "      <td>56.000000</td>\n",
       "      <td>0.000000</td>\n",
       "    </tr>\n",
       "    <tr>\n",
       "      <th>50%</th>\n",
       "      <td>75.000000</td>\n",
       "      <td>678.000000</td>\n",
       "      <td>75.000000</td>\n",
       "      <td>675.000000</td>\n",
       "      <td>63.000000</td>\n",
       "      <td>0.000000</td>\n",
       "    </tr>\n",
       "    <tr>\n",
       "      <th>75%</th>\n",
       "      <td>103.000000</td>\n",
       "      <td>772.000000</td>\n",
       "      <td>83.000000</td>\n",
       "      <td>768.000000</td>\n",
       "      <td>70.000000</td>\n",
       "      <td>0.000000</td>\n",
       "    </tr>\n",
       "    <tr>\n",
       "      <th>max</th>\n",
       "      <td>133.000000</td>\n",
       "      <td>856.000000</td>\n",
       "      <td>153.000000</td>\n",
       "      <td>856.000000</td>\n",
       "      <td>140.000000</td>\n",
       "      <td>6.000000</td>\n",
       "    </tr>\n",
       "  </tbody>\n",
       "</table>\n",
       "</div>"
      ],
      "text/plain": [
       "             daynum         wteam        wscore         lteam        lscore  \\\n",
       "count  91224.000000  91224.000000  91224.000000  91224.000000  91224.000000   \n",
       "mean      73.410133    680.981058     75.370440    677.047400     63.208860   \n",
       "std       34.210997    103.099502     11.408528    102.950054     10.940295   \n",
       "min        0.000000    501.000000     34.000000    501.000000     20.000000   \n",
       "25%       44.000000    592.000000     68.000000    587.000000     56.000000   \n",
       "50%       75.000000    678.000000     75.000000    675.000000     63.000000   \n",
       "75%      103.000000    772.000000     83.000000    768.000000     70.000000   \n",
       "max      133.000000    856.000000    153.000000    856.000000    140.000000   \n",
       "\n",
       "              numot  \n",
       "count  51333.000000  \n",
       "mean       0.072000  \n",
       "std        0.313278  \n",
       "min        0.000000  \n",
       "25%        0.000000  \n",
       "50%        0.000000  \n",
       "75%        0.000000  \n",
       "max        6.000000  "
      ]
     },
     "execution_count": 6,
     "metadata": {},
     "output_type": "execute_result"
    }
   ],
   "source": [
    "X.describe()"
   ]
  },
  {
   "cell_type": "markdown",
   "id": "2358115e",
   "metadata": {},
   "source": [
    "### ------------------------------------------------------------------------------------------------------------------------------------\n",
    "U prikazu ispod nalazi se prikaz lokacije na kojoj je igrao eventualni pobjednik utakmice u obliku pie grafa.\n",
    "\n",
    "Moguće vrijednosti su:\n",
    " - H - doma\n",
    " - A - u gostima\n",
    " - N - neutralni \"teren\"\n",
    "<br>\n",
    "<br>\n",
    "Vidljivo je da daleko prevladavajući domaći teren"
   ]
  },
  {
   "cell_type": "code",
   "execution_count": 7,
   "id": "6e6151aa",
   "metadata": {},
   "outputs": [
    {
     "data": {
      "image/png": "[encoded data removed]",
      "text/plain": [
       "<Figure size 640x480 with 1 Axes>"
      ]
     },
     "metadata": {},
     "output_type": "display_data"
    }
   ],
   "source": [
    "count_per_loc = X.groupby('wloc').count().loc[:,'wteam'].values\n",
    "label_name= X.groupby('wloc').count().index.values\n",
    "plt.pie(count_per_loc, labels = label_name)\n",
    "plt.xlabel('Location for the winner')\n",
    "plt.show()"
   ]
  },
  {
   "cell_type": "markdown",
   "id": "dccc82eb",
   "metadata": {},
   "source": [
    "<br>\n",
    "Graf ispod prikazuje broj utakmica ovisno koji je dio sezone.\n",
    "<br>\n",
    "Frekvencija prikazanih podataka je otprilike jedan \"stupac\" po tjednu."
   ]
  },
  {
   "cell_type": "code",
   "execution_count": 71,
   "id": "6999511f",
   "metadata": {
    "scrolled": false
   },
   "outputs": [
    {
     "data": {
      "image/png": "[encoded data removed]",
      "text/plain": [
       "<Figure size 640x480 with 1 Axes>"
      ]
     },
     "metadata": {},
     "output_type": "display_data"
    }
   ],
   "source": [
    "plt.hist(X.daynum, bins = 21)\n",
    "plt.show()"
   ]
  },
  {
   "cell_type": "markdown",
   "id": "5dde69c1",
   "metadata": {},
   "source": [
    "#### Nepostojeće vrijednosti:\n",
    "Prikaz broja podataka u kojima nedostaju podaci o broju produžetaka odigranih. <br>\n",
    "(U ranijim sezonama nisu postojali produžeci)"
   ]
  },
  {
   "cell_type": "code",
   "execution_count": 70,
   "id": "f4452a76",
   "metadata": {},
   "outputs": [
    {
     "data": {
      "text/plain": [
       "39891"
      ]
     },
     "execution_count": 70,
     "metadata": {},
     "output_type": "execute_result"
    }
   ],
   "source": [
    "X.numot.isna().sum()"
   ]
  },
  {
   "cell_type": "markdown",
   "id": "1d66247e",
   "metadata": {},
   "source": [
    "## Podaci iz `tourney_results.csv` datoteke"
   ]
  },
  {
   "cell_type": "code",
   "execution_count": 9,
   "id": "04abccdf",
   "metadata": {},
   "outputs": [],
   "source": [
    "Y = pd.read_csv('tourney_results.csv')"
   ]
  },
  {
   "cell_type": "markdown",
   "id": "adf04a2d",
   "metadata": {},
   "source": [
    "#### Opet opis osnovnih podataka:"
   ]
  },
  {
   "cell_type": "code",
   "execution_count": 10,
   "id": "d63f41f6",
   "metadata": {},
   "outputs": [
    {
     "data": {
      "text/html": [
       "<div>\n",
       "<style scoped>\n",
       "    .dataframe tbody tr th:only-of-type {\n",
       "        vertical-align: middle;\n",
       "    }\n",
       "\n",
       "    .dataframe tbody tr th {\n",
       "        vertical-align: top;\n",
       "    }\n",
       "\n",
       "    .dataframe thead th {\n",
       "        text-align: right;\n",
       "    }\n",
       "</style>\n",
       "<table border=\"1\" class=\"dataframe\">\n",
       "  <thead>\n",
       "    <tr style=\"text-align: right;\">\n",
       "      <th></th>\n",
       "      <th>season</th>\n",
       "      <th>daynum</th>\n",
       "      <th>wteam</th>\n",
       "      <th>wscore</th>\n",
       "      <th>lteam</th>\n",
       "      <th>lscore</th>\n",
       "      <th>numot</th>\n",
       "    </tr>\n",
       "  </thead>\n",
       "  <tbody>\n",
       "    <tr>\n",
       "      <th>0</th>\n",
       "      <td>A</td>\n",
       "      <td>136</td>\n",
       "      <td>515</td>\n",
       "      <td>86</td>\n",
       "      <td>729</td>\n",
       "      <td>80</td>\n",
       "      <td>NaN</td>\n",
       "    </tr>\n",
       "    <tr>\n",
       "      <th>1</th>\n",
       "      <td>A</td>\n",
       "      <td>136</td>\n",
       "      <td>559</td>\n",
       "      <td>68</td>\n",
       "      <td>555</td>\n",
       "      <td>59</td>\n",
       "      <td>NaN</td>\n",
       "    </tr>\n",
       "    <tr>\n",
       "      <th>2</th>\n",
       "      <td>A</td>\n",
       "      <td>136</td>\n",
       "      <td>576</td>\n",
       "      <td>75</td>\n",
       "      <td>666</td>\n",
       "      <td>63</td>\n",
       "      <td>NaN</td>\n",
       "    </tr>\n",
       "    <tr>\n",
       "      <th>3</th>\n",
       "      <td>A</td>\n",
       "      <td>136</td>\n",
       "      <td>581</td>\n",
       "      <td>75</td>\n",
       "      <td>577</td>\n",
       "      <td>60</td>\n",
       "      <td>NaN</td>\n",
       "    </tr>\n",
       "    <tr>\n",
       "      <th>4</th>\n",
       "      <td>A</td>\n",
       "      <td>136</td>\n",
       "      <td>604</td>\n",
       "      <td>81</td>\n",
       "      <td>551</td>\n",
       "      <td>74</td>\n",
       "      <td>NaN</td>\n",
       "    </tr>\n",
       "  </tbody>\n",
       "</table>\n",
       "</div>"
      ],
      "text/plain": [
       "  season  daynum  wteam  wscore  lteam  lscore  numot\n",
       "0      A     136    515      86    729      80    NaN\n",
       "1      A     136    559      68    555      59    NaN\n",
       "2      A     136    576      75    666      63    NaN\n",
       "3      A     136    581      75    577      60    NaN\n",
       "4      A     136    604      81    551      74    NaN"
      ]
     },
     "execution_count": 10,
     "metadata": {},
     "output_type": "execute_result"
    }
   ],
   "source": [
    "Y.head()"
   ]
  },
  {
   "cell_type": "code",
   "execution_count": 34,
   "id": "9fcfe639",
   "metadata": {},
   "outputs": [
    {
     "data": {
      "text/plain": [
       "season     18\n",
       "daynum     12\n",
       "wteam     155\n",
       "wscore     67\n",
       "lteam     258\n",
       "lscore     66\n",
       "numot       3\n",
       "freq       32\n",
       "dtype: int64"
      ]
     },
     "execution_count": 34,
     "metadata": {},
     "output_type": "execute_result"
    }
   ],
   "source": [
    "Y.nunique()"
   ]
  },
  {
   "cell_type": "markdown",
   "id": "f3d8d28a",
   "metadata": {},
   "source": [
    "<br>\n",
    "Sljedeći graf prikazuje usporedbu poena pobjednika i poraženih u utakmici.<br>\n",
    "Poraženi naravno nikada nemaju manje poena od pobjednika te zato postoji nevidljiva linija od (0,0) do (130, 130). <br>\n",
    "Što je \"točka\" udaljenija od te linije to je pobjednik imao više poena od poraženih. <br>\n",
    "Kako je minimalna vrijednost poena pobjednika veća od minimalnog broja poraženih, \"nevidljiva\" granica ne ide iz samog kuta grafa."
   ]
  },
  {
   "cell_type": "code",
   "execution_count": 73,
   "id": "c94e01e2",
   "metadata": {},
   "outputs": [
    {
     "data": {
      "image/png": "[encoded data removed]",
      "text/plain": [
       "<Figure size 640x480 with 1 Axes>"
      ]
     },
     "metadata": {},
     "output_type": "display_data"
    }
   ],
   "source": [
    "plt.scatter(Y.wscore, Y.lscore)\n",
    "plt.show()"
   ]
  },
  {
   "cell_type": "markdown",
   "id": "bc4ab4e3",
   "metadata": {},
   "source": [
    "<br>\n",
    "Usporedba gornjih podataka u histogramu:"
   ]
  },
  {
   "cell_type": "code",
   "execution_count": 12,
   "id": "81fb6d2f",
   "metadata": {
    "scrolled": false
   },
   "outputs": [
    {
     "data": {
      "image/png": "[encoded data removed]",
      "text/plain": [
       "<Figure size 640x480 with 1 Axes>"
      ]
     },
     "metadata": {},
     "output_type": "display_data"
    }
   ],
   "source": [
    "plt.hist(Y[['wscore', 'lscore']], bins = 10, range = (40, 120))\n",
    "plt.show()"
   ]
  },
  {
   "cell_type": "code",
   "execution_count": 13,
   "id": "5f7b7ee8",
   "metadata": {},
   "outputs": [
    {
     "data": {
      "text/html": [
       "<div>\n",
       "<style scoped>\n",
       "    .dataframe tbody tr th:only-of-type {\n",
       "        vertical-align: middle;\n",
       "    }\n",
       "\n",
       "    .dataframe tbody tr th {\n",
       "        vertical-align: top;\n",
       "    }\n",
       "\n",
       "    .dataframe thead th {\n",
       "        text-align: right;\n",
       "    }\n",
       "</style>\n",
       "<table border=\"1\" class=\"dataframe\">\n",
       "  <thead>\n",
       "    <tr style=\"text-align: right;\">\n",
       "      <th></th>\n",
       "      <th>wscore</th>\n",
       "      <th>lscore</th>\n",
       "    </tr>\n",
       "  </thead>\n",
       "  <tbody>\n",
       "    <tr>\n",
       "      <th>0</th>\n",
       "      <td>86</td>\n",
       "      <td>80</td>\n",
       "    </tr>\n",
       "    <tr>\n",
       "      <th>1</th>\n",
       "      <td>68</td>\n",
       "      <td>59</td>\n",
       "    </tr>\n",
       "    <tr>\n",
       "      <th>2</th>\n",
       "      <td>75</td>\n",
       "      <td>63</td>\n",
       "    </tr>\n",
       "    <tr>\n",
       "      <th>3</th>\n",
       "      <td>75</td>\n",
       "      <td>60</td>\n",
       "    </tr>\n",
       "    <tr>\n",
       "      <th>4</th>\n",
       "      <td>81</td>\n",
       "      <td>74</td>\n",
       "    </tr>\n",
       "    <tr>\n",
       "      <th>...</th>\n",
       "      <td>...</td>\n",
       "      <td>...</td>\n",
       "    </tr>\n",
       "    <tr>\n",
       "      <th>1151</th>\n",
       "      <td>85</td>\n",
       "      <td>63</td>\n",
       "    </tr>\n",
       "    <tr>\n",
       "      <th>1152</th>\n",
       "      <td>79</td>\n",
       "      <td>59</td>\n",
       "    </tr>\n",
       "    <tr>\n",
       "      <th>1153</th>\n",
       "      <td>72</td>\n",
       "      <td>68</td>\n",
       "    </tr>\n",
       "    <tr>\n",
       "      <th>1154</th>\n",
       "      <td>61</td>\n",
       "      <td>56</td>\n",
       "    </tr>\n",
       "    <tr>\n",
       "      <th>1155</th>\n",
       "      <td>82</td>\n",
       "      <td>76</td>\n",
       "    </tr>\n",
       "  </tbody>\n",
       "</table>\n",
       "<p>1156 rows × 2 columns</p>\n",
       "</div>"
      ],
      "text/plain": [
       "      wscore  lscore\n",
       "0         86      80\n",
       "1         68      59\n",
       "2         75      63\n",
       "3         75      60\n",
       "4         81      74\n",
       "...      ...     ...\n",
       "1151      85      63\n",
       "1152      79      59\n",
       "1153      72      68\n",
       "1154      61      56\n",
       "1155      82      76\n",
       "\n",
       "[1156 rows x 2 columns]"
      ]
     },
     "execution_count": 13,
     "metadata": {},
     "output_type": "execute_result"
    }
   ],
   "source": [
    "Y[['wscore', 'lscore']]"
   ]
  },
  {
   "cell_type": "markdown",
   "id": "4fb03dca",
   "metadata": {},
   "source": [
    "#### Strešeći podaci:\n",
    "Provjeravaju se i ispisuju vrijednosti koje iskaču od ostalih vrijednosti u grafu tj. prosjeka vrijednosti tog stupca"
   ]
  },
  {
   "cell_type": "code",
   "execution_count": 75,
   "id": "e26a8a77",
   "metadata": {},
   "outputs": [
    {
     "data": {
      "text/html": [
       "<div>\n",
       "<style scoped>\n",
       "    .dataframe tbody tr th:only-of-type {\n",
       "        vertical-align: middle;\n",
       "    }\n",
       "\n",
       "    .dataframe tbody tr th {\n",
       "        vertical-align: top;\n",
       "    }\n",
       "\n",
       "    .dataframe thead th {\n",
       "        text-align: right;\n",
       "    }\n",
       "</style>\n",
       "<table border=\"1\" class=\"dataframe\">\n",
       "  <thead>\n",
       "    <tr style=\"text-align: right;\">\n",
       "      <th></th>\n",
       "      <th>wteam</th>\n",
       "      <th>wscore</th>\n",
       "    </tr>\n",
       "  </thead>\n",
       "  <tbody>\n",
       "    <tr>\n",
       "      <th>6</th>\n",
       "      <td>640</td>\n",
       "      <td>110</td>\n",
       "    </tr>\n",
       "    <tr>\n",
       "      <th>76</th>\n",
       "      <td>810</td>\n",
       "      <td>109</td>\n",
       "    </tr>\n",
       "    <tr>\n",
       "      <th>145</th>\n",
       "      <td>636</td>\n",
       "      <td>110</td>\n",
       "    </tr>\n",
       "    <tr>\n",
       "      <th>196</th>\n",
       "      <td>625</td>\n",
       "      <td>108</td>\n",
       "    </tr>\n",
       "    <tr>\n",
       "      <th>479</th>\n",
       "      <td>636</td>\n",
       "      <td>108</td>\n",
       "    </tr>\n",
       "    <tr>\n",
       "      <th>610</th>\n",
       "      <td>843</td>\n",
       "      <td>111</td>\n",
       "    </tr>\n",
       "    <tr>\n",
       "      <th>716</th>\n",
       "      <td>592</td>\n",
       "      <td>112</td>\n",
       "    </tr>\n",
       "    <tr>\n",
       "      <th>717</th>\n",
       "      <td>636</td>\n",
       "      <td>107</td>\n",
       "    </tr>\n",
       "    <tr>\n",
       "      <th>724</th>\n",
       "      <td>790</td>\n",
       "      <td>121</td>\n",
       "    </tr>\n",
       "    <tr>\n",
       "      <th>788</th>\n",
       "      <td>708</td>\n",
       "      <td>113</td>\n",
       "    </tr>\n",
       "    <tr>\n",
       "      <th>807</th>\n",
       "      <td>708</td>\n",
       "      <td>108</td>\n",
       "    </tr>\n",
       "  </tbody>\n",
       "</table>\n",
       "</div>"
      ],
      "text/plain": [
       "     wteam  wscore\n",
       "6      640     110\n",
       "76     810     109\n",
       "145    636     110\n",
       "196    625     108\n",
       "479    636     108\n",
       "610    843     111\n",
       "716    592     112\n",
       "717    636     107\n",
       "724    790     121\n",
       "788    708     113\n",
       "807    708     108"
      ]
     },
     "execution_count": 75,
     "metadata": {},
     "output_type": "execute_result"
    }
   ],
   "source": [
    "Y.loc[Y.wscore - Y.wscore.mean() > 30, ['wteam','wscore']]"
   ]
  },
  {
   "cell_type": "markdown",
   "id": "5bf59394",
   "metadata": {},
   "source": [
    "<br>\n",
    "Scuffed ispis broja rezultata ovisno kojoj skupini pripada po zabijenim poenima.<br>\n",
    "Vidljivo je da vrhunac grafa poena pobjednika u grupi 70-80, dok je taj isti kod gubitnika unutar područja 60-70."
   ]
  },
  {
   "cell_type": "code",
   "execution_count": 14,
   "id": "9c8eb093",
   "metadata": {},
   "outputs": [],
   "source": [
    "import warnings\n",
    "warnings.filterwarnings('ignore')"
   ]
  },
  {
   "cell_type": "code",
   "execution_count": 76,
   "id": "aca73865",
   "metadata": {
    "scrolled": false
   },
   "outputs": [
    {
     "data": {
      "text/plain": [
       "wscore\n",
       "(40, 50]        6\n",
       "(50, 60]       78\n",
       "(60, 70]      290\n",
       "(70, 80]      440\n",
       "(80, 90]      242\n",
       "(90, 100]      72\n",
       "(100, 110]     24\n",
       "(110, 120]      3\n",
       "(120, 130]      1\n",
       "Name: wscore, dtype: int64"
      ]
     },
     "execution_count": 76,
     "metadata": {},
     "output_type": "execute_result"
    }
   ],
   "source": [
    "wpts = Y.groupby(pd.cut(Y[\"wscore\"], np.arange(40, 130+10, 10))).count()\n",
    "wpts.wscore"
   ]
  },
  {
   "cell_type": "code",
   "execution_count": 77,
   "id": "06c3a75e",
   "metadata": {},
   "outputs": [
    {
     "data": {
      "text/plain": [
       "lscore\n",
       "(40, 50]      104\n",
       "(50, 60]      341\n",
       "(60, 70]      414\n",
       "(70, 80]      218\n",
       "(80, 90]       58\n",
       "(90, 100]      10\n",
       "(100, 110]      2\n",
       "(110, 120]      0\n",
       "(120, 130]      0\n",
       "Name: lscore, dtype: int64"
      ]
     },
     "execution_count": 77,
     "metadata": {},
     "output_type": "execute_result"
    }
   ],
   "source": [
    "lpts = Y.groupby(pd.cut(Y[\"lscore\"], np.arange(40, 130+10, 10))).count()\n",
    "lpts.lscore"
   ]
  },
  {
   "cell_type": "code",
   "execution_count": 17,
   "id": "0e226451",
   "metadata": {},
   "outputs": [],
   "source": [
    "warnings.filterwarnings('default')"
   ]
  },
  {
   "cell_type": "markdown",
   "id": "017c91c6",
   "metadata": {},
   "source": [
    "<br>\n",
    "Sljedeći graf je prikaz broja ukupnih pobjeda timova u svim turnirima zapisanima u datoteku u obliku grafa raspršenja."
   ]
  },
  {
   "cell_type": "code",
   "execution_count": 50,
   "id": "5f5d553a",
   "metadata": {
    "scrolled": false
   },
   "outputs": [
    {
     "data": {
      "image/png": "[encoded data removed]",
      "text/plain": [
       "<Figure size 640x480 with 1 Axes>"
      ]
     },
     "metadata": {},
     "output_type": "display_data"
    }
   ],
   "source": [
    "Y['freq'] = Y.groupby('wteam')['wteam'].transform('count')\n",
    "plt.scatter(Y.drop_duplicates('wteam').sort_values(by=['wteam'])[['wteam']],Y.drop_duplicates('wteam').sort_values(by=['wteam'])[['freq']])\n",
    "plt.show()\n"
   ]
  },
  {
   "cell_type": "markdown",
   "id": "bdeea6e4",
   "metadata": {},
   "source": [
    "### Kako se ne bi prikazivali samo podaci iz dvije datoteke u nastavku su prikazani osnovni podaci iz nekoliko ostalih. Njihova je svrha povezivanje s dvije glavne datoteke kako one ne bi bile pretrpane podacima"
   ]
  },
  {
   "cell_type": "markdown",
   "id": "30ea278a",
   "metadata": {},
   "source": [
    "## Podaci iz `seasons.csv` datoteke"
   ]
  },
  {
   "cell_type": "code",
   "execution_count": 62,
   "id": "7090fe50",
   "metadata": {
    "scrolled": true
   },
   "outputs": [
    {
     "data": {
      "text/html": [
       "<div>\n",
       "<style scoped>\n",
       "    .dataframe tbody tr th:only-of-type {\n",
       "        vertical-align: middle;\n",
       "    }\n",
       "\n",
       "    .dataframe tbody tr th {\n",
       "        vertical-align: top;\n",
       "    }\n",
       "\n",
       "    .dataframe thead th {\n",
       "        text-align: right;\n",
       "    }\n",
       "</style>\n",
       "<table border=\"1\" class=\"dataframe\">\n",
       "  <thead>\n",
       "    <tr style=\"text-align: right;\">\n",
       "      <th></th>\n",
       "      <th>season</th>\n",
       "      <th>years</th>\n",
       "      <th>dayzero</th>\n",
       "      <th>regionW</th>\n",
       "      <th>regionX</th>\n",
       "      <th>regionY</th>\n",
       "      <th>regionZ</th>\n",
       "    </tr>\n",
       "  </thead>\n",
       "  <tbody>\n",
       "    <tr>\n",
       "      <th>0</th>\n",
       "      <td>A</td>\n",
       "      <td>1995-1996</td>\n",
       "      <td>10/30/1995</td>\n",
       "      <td>East</td>\n",
       "      <td>Midwest</td>\n",
       "      <td>Southeast</td>\n",
       "      <td>West</td>\n",
       "    </tr>\n",
       "    <tr>\n",
       "      <th>1</th>\n",
       "      <td>B</td>\n",
       "      <td>1996-1997</td>\n",
       "      <td>10/28/1996</td>\n",
       "      <td>East</td>\n",
       "      <td>Southeast</td>\n",
       "      <td>Midwest</td>\n",
       "      <td>West</td>\n",
       "    </tr>\n",
       "    <tr>\n",
       "      <th>2</th>\n",
       "      <td>C</td>\n",
       "      <td>1997-1998</td>\n",
       "      <td>10/27/1997</td>\n",
       "      <td>East</td>\n",
       "      <td>West</td>\n",
       "      <td>Midwest</td>\n",
       "      <td>South</td>\n",
       "    </tr>\n",
       "    <tr>\n",
       "      <th>3</th>\n",
       "      <td>D</td>\n",
       "      <td>1998-1999</td>\n",
       "      <td>10/26/1998</td>\n",
       "      <td>East</td>\n",
       "      <td>Midwest</td>\n",
       "      <td>South</td>\n",
       "      <td>West</td>\n",
       "    </tr>\n",
       "    <tr>\n",
       "      <th>4</th>\n",
       "      <td>E</td>\n",
       "      <td>1999-2000</td>\n",
       "      <td>11/01/1999</td>\n",
       "      <td>Midwest</td>\n",
       "      <td>West</td>\n",
       "      <td>East</td>\n",
       "      <td>South</td>\n",
       "    </tr>\n",
       "  </tbody>\n",
       "</table>\n",
       "</div>"
      ],
      "text/plain": [
       "  season      years     dayzero  regionW    regionX    regionY regionZ\n",
       "0      A  1995-1996  10/30/1995     East    Midwest  Southeast    West\n",
       "1      B  1996-1997  10/28/1996     East  Southeast    Midwest    West\n",
       "2      C  1997-1998  10/27/1997     East       West    Midwest   South\n",
       "3      D  1998-1999  10/26/1998     East    Midwest      South    West\n",
       "4      E  1999-2000  11/01/1999  Midwest       West       East   South"
      ]
     },
     "execution_count": 62,
     "metadata": {},
     "output_type": "execute_result"
    }
   ],
   "source": [
    "Z = pd.read_csv('seasons.csv')\n",
    "Z.head()"
   ]
  },
  {
   "cell_type": "markdown",
   "id": "6e3ee4a8",
   "metadata": {},
   "source": [
    "## Podaci iz `tourney_slots.csv` datoteke"
   ]
  },
  {
   "cell_type": "code",
   "execution_count": 63,
   "id": "2315d92f",
   "metadata": {},
   "outputs": [
    {
     "data": {
      "text/html": [
       "<div>\n",
       "<style scoped>\n",
       "    .dataframe tbody tr th:only-of-type {\n",
       "        vertical-align: middle;\n",
       "    }\n",
       "\n",
       "    .dataframe tbody tr th {\n",
       "        vertical-align: top;\n",
       "    }\n",
       "\n",
       "    .dataframe thead th {\n",
       "        text-align: right;\n",
       "    }\n",
       "</style>\n",
       "<table border=\"1\" class=\"dataframe\">\n",
       "  <thead>\n",
       "    <tr style=\"text-align: right;\">\n",
       "      <th></th>\n",
       "      <th>season</th>\n",
       "      <th>slot</th>\n",
       "      <th>strongseed</th>\n",
       "      <th>weakseed</th>\n",
       "    </tr>\n",
       "  </thead>\n",
       "  <tbody>\n",
       "    <tr>\n",
       "      <th>0</th>\n",
       "      <td>A</td>\n",
       "      <td>R1W1</td>\n",
       "      <td>W01</td>\n",
       "      <td>W16</td>\n",
       "    </tr>\n",
       "    <tr>\n",
       "      <th>1</th>\n",
       "      <td>A</td>\n",
       "      <td>R1W2</td>\n",
       "      <td>W02</td>\n",
       "      <td>W15</td>\n",
       "    </tr>\n",
       "    <tr>\n",
       "      <th>2</th>\n",
       "      <td>A</td>\n",
       "      <td>R1W3</td>\n",
       "      <td>W03</td>\n",
       "      <td>W14</td>\n",
       "    </tr>\n",
       "    <tr>\n",
       "      <th>3</th>\n",
       "      <td>A</td>\n",
       "      <td>R1W4</td>\n",
       "      <td>W04</td>\n",
       "      <td>W13</td>\n",
       "    </tr>\n",
       "    <tr>\n",
       "      <th>4</th>\n",
       "      <td>A</td>\n",
       "      <td>R1W5</td>\n",
       "      <td>W05</td>\n",
       "      <td>W12</td>\n",
       "    </tr>\n",
       "  </tbody>\n",
       "</table>\n",
       "</div>"
      ],
      "text/plain": [
       "  season  slot strongseed weakseed\n",
       "0      A  R1W1        W01      W16\n",
       "1      A  R1W2        W02      W15\n",
       "2      A  R1W3        W03      W14\n",
       "3      A  R1W4        W04      W13\n",
       "4      A  R1W5        W05      W12"
      ]
     },
     "execution_count": 63,
     "metadata": {},
     "output_type": "execute_result"
    }
   ],
   "source": [
    "T = pd.read_csv('tourney_slots.csv')\n",
    "T.head()"
   ]
  },
  {
   "cell_type": "code",
   "execution_count": 65,
   "id": "7acf9db5",
   "metadata": {},
   "outputs": [
    {
     "data": {
      "text/html": [
       "<div>\n",
       "<style scoped>\n",
       "    .dataframe tbody tr th:only-of-type {\n",
       "        vertical-align: middle;\n",
       "    }\n",
       "\n",
       "    .dataframe tbody tr th {\n",
       "        vertical-align: top;\n",
       "    }\n",
       "\n",
       "    .dataframe thead th {\n",
       "        text-align: right;\n",
       "    }\n",
       "</style>\n",
       "<table border=\"1\" class=\"dataframe\">\n",
       "  <thead>\n",
       "    <tr style=\"text-align: right;\">\n",
       "      <th></th>\n",
       "      <th>season</th>\n",
       "      <th>slot</th>\n",
       "      <th>strongseed</th>\n",
       "      <th>weakseed</th>\n",
       "    </tr>\n",
       "  </thead>\n",
       "  <tbody>\n",
       "    <tr>\n",
       "      <th>count</th>\n",
       "      <td>1223</td>\n",
       "      <td>1223</td>\n",
       "      <td>1223</td>\n",
       "      <td>1223</td>\n",
       "    </tr>\n",
       "    <tr>\n",
       "      <th>unique</th>\n",
       "      <td>19</td>\n",
       "      <td>74</td>\n",
       "      <td>74</td>\n",
       "      <td>74</td>\n",
       "    </tr>\n",
       "    <tr>\n",
       "      <th>top</th>\n",
       "      <td>S</td>\n",
       "      <td>R1W1</td>\n",
       "      <td>W01</td>\n",
       "      <td>W16</td>\n",
       "    </tr>\n",
       "    <tr>\n",
       "      <th>freq</th>\n",
       "      <td>67</td>\n",
       "      <td>19</td>\n",
       "      <td>19</td>\n",
       "      <td>19</td>\n",
       "    </tr>\n",
       "  </tbody>\n",
       "</table>\n",
       "</div>"
      ],
      "text/plain": [
       "       season  slot strongseed weakseed\n",
       "count    1223  1223       1223     1223\n",
       "unique     19    74         74       74\n",
       "top         S  R1W1        W01      W16\n",
       "freq       67    19         19       19"
      ]
     },
     "execution_count": 65,
     "metadata": {},
     "output_type": "execute_result"
    }
   ],
   "source": [
    "T.describe()"
   ]
  },
  {
   "cell_type": "code",
   "execution_count": null,
   "id": "8eaf0e49",
   "metadata": {},
   "outputs": [],
   "source": []
  }
 ],
 "metadata": {
  "kernelspec": {
   "display_name": "Python 3 (ipykernel)",
   "language": "python",
   "name": "python3"
  },
  "language_info": {
   "codemirror_mode": {
    "name": "ipython",
    "version": 3
   },
   "file_extension": ".py",
   "mimetype": "text/x-python",
   "name": "python",
   "nbconvert_exporter": "python",
   "pygments_lexer": "ipython3",
   "version": "3.10.4"
  }
 },
 "nbformat": 4,
 "nbformat_minor": 5
}
